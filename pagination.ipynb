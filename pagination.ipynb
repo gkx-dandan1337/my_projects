{
 "cells": [
  {
   "cell_type": "code",
   "execution_count": 21,
   "metadata": {},
   "outputs": [],
   "source": [
    "import dash\n",
    "from dash import dcc, html, Input, Output\n",
    "import pandas as pd\n",
    "import plotly.express as px\n",
    "import pyodbc\n",
    "import os\n",
    "\n",
    "# Set up the database connection\n",
    "connection_string =\"Driver={ODBC Driver 18 for SQL Server};Server=tcp:modular-server.database.windows.net,1433;Database=modular;Uid=CloudSA1c5b822c;Pwd={Givemeinternship!};Encrypt=yes;TrustServerCertificate=no;Connection Timeout=30;\"\n"
   ]
  },
  {
   "cell_type": "code",
   "execution_count": 22,
   "metadata": {},
   "outputs": [],
   "source": [
    "\n",
    "\"\"\"Fetch unique security descriptions from the database.\"\"\"\n",
    "conn = pyodbc.connect(connection_string)\n",
    "cursor = conn.cursor()\n",
    "query = \"SELECT DISTINCT Security FROM mktdata;\"\n",
    "cursor.execute(query)\n",
    "data = cursor.fetchall()\n"
   ]
  },
  {
   "cell_type": "code",
   "execution_count": 23,
   "metadata": {},
   "outputs": [
    {
     "name": "stdout",
     "output_type": "stream",
     "text": [
      "('06.79 GS 2034',)\n",
      "('06.92 GS 2039',)\n",
      "('07.04 GS 2029',)\n",
      "('07.09 GS 2054',)\n",
      "('07.10 GS 2029',)\n",
      "('07.10 GS 2034',)\n",
      "('07.17 GS 2030',)\n",
      "('07.18 GS 2033',)\n",
      "('07.23 GS 2039',)\n",
      "('07.26 GS 2033',)\n",
      "('07.32 GS 2030',)\n",
      "('07.34 GS 2064',)\n",
      "('07.37 GS 2028',)\n",
      "('07.38 GS 2027',)\n",
      "('08.20 GS 2025',)\n"
     ]
    }
   ],
   "source": [
    "for row in data:\n",
    "    print(row)"
   ]
  },
  {
   "cell_type": "code",
   "execution_count": 26,
   "metadata": {},
   "outputs": [
    {
     "name": "stdout",
     "output_type": "stream",
     "text": [
      "(datetime.datetime(2025, 3, 12, 19, 17, 2), 1801, 17335.0)\n",
      "(datetime.datetime(2025, 3, 12, 19, 20, 22), 1808, 17445.0)\n",
      "(datetime.datetime(2025, 3, 12, 20, 35, 34), 1941, 18660.0)\n",
      "(datetime.datetime(2025, 3, 12, 21, 4, 40), 1941, 18660.0)\n"
     ]
    }
   ],
   "source": [
    "cursor = conn.cursor()\n",
    "query = \"\"\"\n",
    "SELECT Timestamp, Trades, TTA \n",
    "FROM mktdata \n",
    "WHERE Security = ? \n",
    "ORDER BY Timestamp;\"\"\"\n",
    "cursor.execute(query, (\"06.79 GS 2034\",))\n",
    "data = cursor.fetchall()\n",
    "\n",
    "timestamps = []\n",
    "trades = []\n",
    "tta = []\n",
    "\n",
    "for row in data:\n",
    "    print(row)\n",
    "\n"
   ]
  }
 ],
 "metadata": {
  "kernelspec": {
   "display_name": "Python 3",
   "language": "python",
   "name": "python3"
  },
  "language_info": {
   "codemirror_mode": {
    "name": "ipython",
    "version": 3
   },
   "file_extension": ".py",
   "mimetype": "text/x-python",
   "name": "python",
   "nbconvert_exporter": "python",
   "pygments_lexer": "ipython3",
   "version": "3.10.11"
  }
 },
 "nbformat": 4,
 "nbformat_minor": 2
}
